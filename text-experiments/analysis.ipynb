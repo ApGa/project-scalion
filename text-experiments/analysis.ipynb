{
 "cells": [
  {
   "cell_type": "code",
   "execution_count": 2,
   "id": "c24591d5-0d1d-4a03-87be-c7d620d5d813",
   "metadata": {},
   "outputs": [],
   "source": [
    "import os\n",
    "import json\n",
    "import jsonlines\n",
    "import numpy as np\n",
    "import pandas as pd\n",
    "from IPython.display import display, HTML\n",
    "\n",
    "import seaborn as sns\n",
    "import matplotlib.pyplot as plt\n",
    "\n",
    "from tqdm.notebook import tqdm"
   ]
  },
  {
   "cell_type": "markdown",
   "id": "98dd2de2",
   "metadata": {},
   "source": [
    "### Runs"
   ]
  },
  {
   "cell_type": "code",
   "execution_count": null,
   "id": "c844ebcb",
   "metadata": {},
   "outputs": [
    {
     "data": {
      "text/html": [
       "<div>\n",
       "<style scoped>\n",
       "    .dataframe tbody tr th:only-of-type {\n",
       "        vertical-align: middle;\n",
       "    }\n",
       "\n",
       "    .dataframe tbody tr th {\n",
       "        vertical-align: top;\n",
       "    }\n",
       "\n",
       "    .dataframe thead th {\n",
       "        text-align: right;\n",
       "    }\n",
       "</style>\n",
       "<table border=\"1\" class=\"dataframe\">\n",
       "  <thead>\n",
       "    <tr style=\"text-align: right;\">\n",
       "      <th></th>\n",
       "      <th></th>\n",
       "      <th>score</th>\n",
       "    </tr>\n",
       "    <tr>\n",
       "      <th>model</th>\n",
       "      <th>task</th>\n",
       "      <th></th>\n",
       "    </tr>\n",
       "  </thead>\n",
       "  <tbody>\n",
       "    <tr>\n",
       "      <th>Qwen-Qwen2.5-7B-Instruct</th>\n",
       "      <th>test_gsm_plus</th>\n",
       "      <td>0.828333</td>\n",
       "    </tr>\n",
       "  </tbody>\n",
       "</table>\n",
       "</div>"
      ],
      "text/plain": [
       "                                           score\n",
       "model                    task                   \n",
       "Qwen-Qwen2.5-7B-Instruct test_gsm_plus  0.828333"
      ]
     },
     "execution_count": 5,
     "metadata": {},
     "output_type": "execute_result"
    }
   ],
   "source": [
    "# Baseline\n",
    "data_dict = {\n",
    "    \"model\": [],\n",
    "    \"task\": [],\n",
    "    \"num\": [],\n",
    "    \"variant\": [],\n",
    "    \"score\": [],\n",
    "}\n",
    "\n",
    "runs_list = os.listdir(\"data/runs/baseline/\")\n",
    "for run in runs_list:\n",
    "    model, task, _, num, variant = run.split(\":\")\n",
    "    with open(f\"data/runs/baseline/{run}/result.json\") as f:\n",
    "        results = json.load(f)\n",
    "    data_dict[\"model\"].append(model)\n",
    "    data_dict[\"task\"].append(task)\n",
    "    data_dict[\"num\"].append(num)\n",
    "    data_dict[\"variant\"].append(variant)\n",
    "    data_dict[\"score\"].append(results[\"avg_accuracy\"])\n",
    "\n",
    "run_df = pd.DataFrame(data_dict)\n",
    "run_df.pivot_table(\n",
    "    index=[\"model\", \"task\"],\n",
    "    values=\"score\",\n",
    "    aggfunc=\"mean\",\n",
    "    fill_value=0\n",
    ")"
   ]
  },
  {
   "cell_type": "code",
   "execution_count": null,
   "id": "2e1b82f3",
   "metadata": {},
   "outputs": [
    {
     "data": {
      "text/html": [
       "<div>\n",
       "<style scoped>\n",
       "    .dataframe tbody tr th:only-of-type {\n",
       "        vertical-align: middle;\n",
       "    }\n",
       "\n",
       "    .dataframe tbody tr th {\n",
       "        vertical-align: top;\n",
       "    }\n",
       "\n",
       "    .dataframe thead th {\n",
       "        text-align: right;\n",
       "    }\n",
       "</style>\n",
       "<table border=\"1\" class=\"dataframe\">\n",
       "  <thead>\n",
       "    <tr style=\"text-align: right;\">\n",
       "      <th></th>\n",
       "      <th></th>\n",
       "      <th></th>\n",
       "      <th>score</th>\n",
       "    </tr>\n",
       "    <tr>\n",
       "      <th>model</th>\n",
       "      <th>task</th>\n",
       "      <th>iteration</th>\n",
       "      <th></th>\n",
       "    </tr>\n",
       "  </thead>\n",
       "  <tbody>\n",
       "    <tr>\n",
       "      <th rowspan=\"4\" valign=\"top\">Qwen-Qwen2.5-7B-Instruct</th>\n",
       "      <th rowspan=\"4\" valign=\"top\">test_gsm_plus</th>\n",
       "      <th>1</th>\n",
       "      <td>0.718333</td>\n",
       "    </tr>\n",
       "    <tr>\n",
       "      <th>2</th>\n",
       "      <td>0.734444</td>\n",
       "    </tr>\n",
       "    <tr>\n",
       "      <th>3</th>\n",
       "      <td>0.755000</td>\n",
       "    </tr>\n",
       "    <tr>\n",
       "      <th>4</th>\n",
       "      <td>0.771667</td>\n",
       "    </tr>\n",
       "  </tbody>\n",
       "</table>\n",
       "</div>"
      ],
      "text/plain": [
       "                                                     score\n",
       "model                    task          iteration          \n",
       "Qwen-Qwen2.5-7B-Instruct test_gsm_plus 1          0.718333\n",
       "                                       2          0.734444\n",
       "                                       3          0.755000\n",
       "                                       4          0.771667"
      ]
     },
     "execution_count": 14,
     "metadata": {},
     "output_type": "execute_result"
    }
   ],
   "source": [
    "# Baseline\n",
    "data_dict = {\n",
    "    \"iteration\": [],\n",
    "    \"model\": [],\n",
    "    \"task\": [],\n",
    "    \"num\": [],\n",
    "    \"variant\": [],\n",
    "    \"score\": [],\n",
    "}\n",
    "\n",
    "MODEL = \"Qwen-Qwen2.5-3B-Instruct\"\n",
    "for it in range(1,5):\n",
    "    run_path = f\"data/runs/{MODEL}-DPO-{it}\"\n",
    "    runs_list = os.listdir(run_path)\n",
    "    for run in runs_list:\n",
    "        model, task, num, variant = run.split(\":\")\n",
    "        with open(f\"{run_path}/{run}/result.json\") as f:\n",
    "            results = json.load(f)\n",
    "        data_dict[\"iteration\"].append(it)\n",
    "        data_dict[\"model\"].append(model)\n",
    "        data_dict[\"task\"].append(task)\n",
    "        data_dict[\"num\"].append(num)\n",
    "        data_dict[\"variant\"].append(variant)\n",
    "        data_dict[\"score\"].append(results[\"avg_accuracy\"])\n",
    "\n",
    "run_df = pd.DataFrame(data_dict)\n",
    "run_df.pivot_table(\n",
    "    index=[\"model\", \"task\", \"iteration\"],\n",
    "    values=\"score\",\n",
    "    aggfunc=\"mean\",\n",
    "    fill_value=0\n",
    ")"
   ]
  },
  {
   "cell_type": "code",
   "execution_count": null,
   "id": "ff802be2",
   "metadata": {},
   "outputs": [],
   "source": []
  }
 ],
 "metadata": {
  "kernelspec": {
   "display_name": "dev",
   "language": "python",
   "name": "python3"
  },
  "language_info": {
   "codemirror_mode": {
    "name": "ipython",
    "version": 3
   },
   "file_extension": ".py",
   "mimetype": "text/x-python",
   "name": "python",
   "nbconvert_exporter": "python",
   "pygments_lexer": "ipython3",
   "version": "3.12.9"
  }
 },
 "nbformat": 4,
 "nbformat_minor": 5
}
